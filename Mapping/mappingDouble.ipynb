{
 "cells": [
  {
   "cell_type": "code",
   "execution_count": 34,
   "metadata": {},
   "outputs": [],
   "source": [
    "import sys, time\n",
    "import numpy as np\n",
    "import cv2\n",
    "import glob\n",
    "from optparse import OptionParser\n",
    "from pyntcloud import PyntCloud\n",
    "import pandas as pd\n",
    "from IPython.display import IFrame\n",
    "\n",
    "import matplotlib.pyplot as plt\n",
    "\n",
    "img = cv2.imread(\"fullImage.jpg\")\n",
    "\n",
    "if img is None:\n",
    "    print(\"Image Not Found at: {}\".format(options.image))\n",
    "    exit()\n",
    "\n",
    "hgt = img.shape[0]\n",
    "wth = img.shape[1]\n",
    "hwth = int(wth/2)\n",
    "\n",
    "numPx = int(906)\n",
    "# numPx = int(910)\n",
    "\n",
    "center = int(hwth/2)\n",
    "\n",
    "circlePx = int(numPx/2)"
   ]
  },
  {
   "cell_type": "code",
   "execution_count": 35,
   "metadata": {},
   "outputs": [
    {
     "name": "stdout",
     "output_type": "stream",
     "text": [
      "27\n",
      "-1.0596026490066226\n",
      "1.0596026490066226\n",
      "960\n",
      "Iteration 0\n",
      "Iteration 100\n",
      "Iteration 200\n",
      "Iteration 300\n",
      "Iteration 400\n",
      "Iteration 500\n",
      "Iteration 600\n",
      "Iteration 700\n",
      "Iteration 800\n",
      "Iteration 900\n",
      "ThetaSize: (960, 960)\n",
      "Iteration Time: 4.914733648300171\n"
     ]
    }
   ],
   "source": [
    "start = time.time()\n",
    "# circlePx = int(wth/2)\n",
    "uPixel = np.linspace(-center, center, num=hwth, dtype=float)\n",
    "vPixel = np.linspace(-center, center, num=hgt, dtype=float)\n",
    "\n",
    "# xx = 2*uPixel/hwth\n",
    "# yy = 2*vPixel/hgt\n",
    "\n",
    "diff = center - circlePx\n",
    "# uPixel = np.linspace(-circlePx, circlePx, num=numPx, dtype=float)\n",
    "# vPixel = np.linspace(-circlePx, circlePx, num=numPx, dtype=float)\n",
    "\n",
    "xx = uPixel/circlePx\n",
    "yy = vPixel/circlePx\n",
    "\n",
    "print(diff)\n",
    "print(np.min(xx))\n",
    "print(np.max(yy))\n",
    "print(xx.size)\n",
    "\n",
    "theta = np.zeros((hwth,hwth), dtype = np.float32)\n",
    "phi = np.zeros((hwth,hwth), dtype = np.float32)\n",
    "borders = np.zeros((hwth,hwth), dtype = np.float32)\n",
    "\n",
    "ii = 0\n",
    "jj = 0\n",
    "for i, x in enumerate(xx):\n",
    "    for j, y in enumerate(yy):\n",
    "        l = x**2+y**2\n",
    "        if l < 1:\n",
    "#             print(i,j)\n",
    "#             ii = i+diff\n",
    "#             jj = j+diff\n",
    "            phi[i,j] = np.arctan2(y,x)\n",
    "            theta[i,j] = np.sqrt(l)*np.pi/2\n",
    "            borders[i,j] = 1\n",
    "    if np.mod(i,100) == 0:\n",
    "        print(\"Iteration {}\".format(i))\n",
    "\n",
    "plt.imshow(theta)\n",
    "plt.show()\n",
    "            \n",
    "print(\"ThetaSize: {}\".format(theta.shape))\n",
    "    \n",
    "print(\"Iteration Time: {}\".format(time.time()-start))"
   ]
  },
  {
   "cell_type": "code",
   "execution_count": null,
   "metadata": {},
   "outputs": [],
   "source": []
  },
  {
   "cell_type": "code",
   "execution_count": 36,
   "metadata": {},
   "outputs": [
    {
     "name": "stdout",
     "output_type": "stream",
     "text": [
      "-0.9999994 0.9999994\n",
      "-0.9999994 0.9999994\n",
      "1.9983449e-05 1.0\n",
      "(960, 960)\n",
      "(960, 960)\n",
      "(960, 960)\n",
      "643288\n",
      "(643288, 3)\n",
      "(643288, 3)\n",
      "(1286576, 3)\n"
     ]
    }
   ],
   "source": [
    "theta_s = np.sin(theta)\n",
    "theta_c = np.cos(theta)\n",
    "phi_s = np.sin(phi)\n",
    "phi_c = np.cos(phi)\n",
    "\n",
    "x = theta_s*phi_c\n",
    "y = theta_s*phi_s\n",
    "z = theta_c\n",
    "\n",
    "print(np.min(x),np.max(x))\n",
    "print(np.min(y),np.max(y))\n",
    "print(np.min(z),np.max(z))\n",
    "\n",
    "phi_sr = np.sin(phi+np.pi)\n",
    "phi_cr = np.cos(phi+np.pi)\n",
    "\n",
    "rx = theta_s*(phi_cr)\n",
    "ry = theta_s*(phi_sr)\n",
    "\n",
    "print(x.shape)\n",
    "print(y.shape)\n",
    "print(z.shape)\n",
    "count = np.count_nonzero(borders)\n",
    "print(count)\n",
    "# points = np.empty((count,3))\n",
    "# colours = np.zeros((count,3))\n",
    "\n",
    "# points = np.empty((hwth*hwth,3))\n",
    "# rPoints = np.empty((hwth*hwth,3))\n",
    "# colours = np.zeros((hwth*hwth,3))\n",
    "# rColours = np.zeros((hwth*hwth,3))\n",
    "\n",
    "points = np.empty((count,3))\n",
    "rPoints = np.empty((count,3))\n",
    "colours = np.zeros((count,3))\n",
    "rColours = np.zeros((count,3))\n",
    "\n",
    "k = 0\n",
    "# for i,t in enumerate(borders!=0):\n",
    "#     h = ([j for j, h in enumerate(t) if h])\n",
    "#     for j in h:\n",
    "#         points[k] = [x[i,j],y[i,j],z[i,j]]\n",
    "#         k += 1\n",
    "        \n",
    "for i in range(hwth):\n",
    "    for j in range(hwth):\n",
    "        if borders[i,j] !=0:\n",
    "            points[k] = [x[i,j],y[i,j],z[i,j]]\n",
    "            rPoints[k] = [-rx[i,j],ry[i,j],-z[i,j]]\n",
    "            k += 1\n",
    "\n",
    "print(points.shape)\n",
    "print(rPoints.shape)\n",
    "points = np.concatenate((points,rPoints))\n",
    "print(points.shape)"
   ]
  },
  {
   "cell_type": "code",
   "execution_count": 37,
   "metadata": {
    "scrolled": true
   },
   "outputs": [
    {
     "name": "stdout",
     "output_type": "stream",
     "text": [
      "(1286576, 3)\n"
     ]
    }
   ],
   "source": [
    "k = 0\n",
    "for i,t in enumerate(borders!=0):\n",
    "    h = ([j for j, h in enumerate(t) if h])\n",
    "    for j in h:\n",
    "        colours[k] = img[i,j]\n",
    "        rColours[k] = img[i,j+hwth]\n",
    "        k += 1\n",
    "\n",
    "# for i in range(wth):\n",
    "#     for j in range(wth):\n",
    "#         colours[k] = img[j,i]\n",
    "#         k += 1     \n",
    "        \n",
    "colours = np.concatenate((colours,rColours))\n",
    "print(colours.shape)"
   ]
  },
  {
   "cell_type": "code",
   "execution_count": 38,
   "metadata": {},
   "outputs": [
    {
     "name": "stdout",
     "output_type": "stream",
     "text": [
      "Done\n"
     ]
    }
   ],
   "source": [
    "# derp = np.column_stack((x,y,z))\n",
    "cPoints = pd.DataFrame(points,columns=['x', 'y', 'z'])\n",
    "cPoints[['red', 'blue', 'green']] = pd.DataFrame(colours.astype(np.uint8), index=cPoints.index)\n",
    "cloud = PyntCloud(cPoints)\n",
    "print(\"Done\")"
   ]
  },
  {
   "cell_type": "code",
   "execution_count": 40,
   "metadata": {},
   "outputs": [],
   "source": [
    "# cloud.plot(point_size=0.01)"
   ]
  },
  {
   "cell_type": "code",
   "execution_count": null,
   "metadata": {},
   "outputs": [],
   "source": []
  }
 ],
 "metadata": {
  "kernelspec": {
   "display_name": "Python 3",
   "language": "python",
   "name": "python3"
  },
  "language_info": {
   "codemirror_mode": {
    "name": "ipython",
    "version": 3
   },
   "file_extension": ".py",
   "mimetype": "text/x-python",
   "name": "python",
   "nbconvert_exporter": "python",
   "pygments_lexer": "ipython3",
   "version": "3.4.3"
  }
 },
 "nbformat": 4,
 "nbformat_minor": 2
}
