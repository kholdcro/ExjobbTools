{
 "cells": [
  {
   "cell_type": "code",
   "execution_count": 1,
   "metadata": {},
   "outputs": [
    {
     "name": "stdout",
     "output_type": "stream",
     "text": [
      "Done!\n"
     ]
    }
   ],
   "source": [
    "import sys, time\n",
    "import numpy as np\n",
    "import cv2\n",
    "import glob\n",
    "from optparse import OptionParser\n",
    "from pyntcloud import PyntCloud\n",
    "import pandas as pd\n",
    "from IPython.display import IFrame\n",
    "\n",
    "import matplotlib.pyplot as plt\n",
    "\n",
    "img = cv2.imread(\"fullImage.jpg\")\n",
    "\n",
    "if img is None:\n",
    "    print(\"Image Not Found at: {}\".format(options.image))\n",
    "    exit()\n",
    "\n",
    "hgt = img.shape[0]\n",
    "wth = img.shape[1]\n",
    "hwth = int(wth/2)\n",
    "\n",
    "numPx = int(906)\n",
    "# numPx = int(905)\n",
    "# numPx = int(910)\n",
    "\n",
    "center = int(hwth/2)\n",
    "circlePx = int(numPx/2)\n",
    "\n",
    "dParams = np.array([[-0.017766, 0.000774, 0.007102, -0.003659], [-0.035377, 0.037186, -0.023483, 0.004869]])\n",
    "fx = np.array([301.8879, 304.6328])\n",
    "fy = np.array([301.7202, 304.6480])\n",
    "cx = np.array([481.2043, 479.5115])\n",
    "cy = np.array([478.8208, 483.5244])\n",
    "\n",
    "print(\"Done!\")"
   ]
  },
  {
   "cell_type": "code",
   "execution_count": 2,
   "metadata": {},
   "outputs": [
    {
     "name": "stdout",
     "output_type": "stream",
     "text": [
      "Iteration 0\n",
      "Iteration 100\n",
      "Iteration 200\n",
      "Iteration 300\n",
      "Iteration 400\n",
      "Iteration 500\n",
      "Iteration 600\n",
      "Iteration 700\n",
      "Iteration 800\n",
      "Iteration 900\n",
      "Iteration Time: 3.8926539421081543\n"
     ]
    }
   ],
   "source": [
    "start = time.time()\n",
    "# circlePx = int(wth/2)\n",
    "uPixel = np.linspace(-center, center, num=hwth, dtype=float)\n",
    "vPixel = np.linspace(-center, center, num=hgt, dtype=float)\n",
    "\n",
    "dx = np.round(cx-center)\n",
    "dy = np.round(cy-center)\n",
    "\n",
    "diff = center - circlePx\n",
    "\n",
    "xx = uPixel/circlePx\n",
    "yy = vPixel/circlePx\n",
    "\n",
    "tmp = np.zeros((hwth,hwth), dtype = np.float32)\n",
    "theta = np.array([tmp, tmp])\n",
    "phi = np.array([tmp, tmp])\n",
    "borders = np.array([tmp, tmp])\n",
    "\n",
    "ii = np.array([0,0],dtype=int)\n",
    "jj = np.array([1,1],dtype=int)\n",
    "the = 0\n",
    "# for i, x in enumerate(xx):\n",
    "#     for j, y in enumerate(yy):\n",
    "#         l = x**2+y**2\n",
    "#         if l < 1:\n",
    "#             ii = (i+dx).astype(int)\n",
    "#             jj = (j+dy).astype(int)\n",
    "#             the = np.sqrt(l)*np.pi/2\n",
    "# #             the = the*([1,1]+dParams[:,0]*the**2+dParams[:,1]*the**4+dParams[:,2]*the**6+dParams[:,3]*the**8)\n",
    "#             phi[:,ii[:],jj[:]] = np.arctan2(y,x)\n",
    "#             theta[:,ii[:],jj[:]] = the\n",
    "#             borders[:,ii[:],jj[:]] = 1\n",
    "#     if np.mod(i,100) == 0:\n",
    "#         print(\"Iteration {}\".format(i))\n",
    "\n",
    "borders = tmp\n",
    "for i, x in enumerate(xx):\n",
    "    for j, y in enumerate(yy):\n",
    "        l = x**2+y**2\n",
    "        if l < 1:\n",
    "            the = np.sqrt(l)*np.pi/2\n",
    "#             the = the*([1,1]+dParams[:,0]*the**2+dParams[:,1]*the**4+dParams[:,2]*the**6+dParams[:,3]*the**8)\n",
    "            phi[:,i,j] = np.arctan2(y,x)\n",
    "            theta[:,i,j] = the\n",
    "            borders[i,j] = 1\n",
    "    if np.mod(i,100) == 0:\n",
    "        print(\"Iteration {}\".format(i))        \n",
    "\n",
    "# plt.imshow(theta[1])\n",
    "# plt.show()\n",
    "# theta = (np.pi/(2*np.max(theta)))*theta\n",
    "               \n",
    "print(\"Iteration Time: {}\".format(time.time()-start))"
   ]
  },
  {
   "cell_type": "code",
   "execution_count": 3,
   "metadata": {},
   "outputs": [
    {
     "name": "stdout",
     "output_type": "stream",
     "text": [
      "Iteration 0\n",
      "Iteration 100\n",
      "Iteration 200\n",
      "Iteration 300\n",
      "Iteration 400\n",
      "Iteration 500\n",
      "Iteration 600\n",
      "Iteration 700\n",
      "Iteration 800\n",
      "Iteration 900\n",
      "Number of points: 1286576\n",
      "Done!\n"
     ]
    }
   ],
   "source": [
    "theta_s = np.sin(theta)\n",
    "theta_c = np.cos(theta)\n",
    "phi_s = np.sin(phi[0])\n",
    "phi_c = np.cos(phi[0])\n",
    "\n",
    "x = theta_s[0]*phi_c\n",
    "y = theta_s[0]*phi_s\n",
    "z = theta_c[0]\n",
    "\n",
    "phi_sr = np.sin(phi[1]+np.pi)\n",
    "phi_cr = np.cos(phi[1]+np.pi)\n",
    "\n",
    "rx = -theta_s[1]*(phi_cr)\n",
    "ry = theta_s[1]*(phi_sr)\n",
    "rz = -theta_c[1]\n",
    "\n",
    "count = np.count_nonzero(borders)\n",
    "\n",
    "points = np.empty((count,3))\n",
    "rPoints = np.empty((count,3))\n",
    "\n",
    "k = 0\n",
    "for i in range(hwth):\n",
    "    for j in range(hwth):\n",
    "        if borders[i,j] !=0:\n",
    "            points[k] = [x[i,j],y[i,j],z[i,j]]\n",
    "            rPoints[k] = [rx[i,j],ry[i,j],rz[i,j]]\n",
    "            k += 1            \n",
    "    if np.mod(i,100) == 0:\n",
    "        print(\"Iteration {}\".format(i))\n",
    "        \n",
    "        \n",
    "print(\"Number of points: {}\".format(points.shape[0]*2))\n",
    "points = np.concatenate((points,rPoints))\n",
    "# print(points.shape)\n",
    "print(\"Done!\")"
   ]
  },
  {
   "cell_type": "code",
   "execution_count": 4,
   "metadata": {
    "scrolled": true
   },
   "outputs": [
    {
     "name": "stdout",
     "output_type": "stream",
     "text": [
      "Done!\n"
     ]
    }
   ],
   "source": [
    "colours = np.zeros((count,3))\n",
    "rColours = np.zeros((count,3))\n",
    "\n",
    "k = 0\n",
    "for i,t in enumerate(borders!=0):\n",
    "    h = ([j for j, h in enumerate(t) if h])\n",
    "    for j in h:\n",
    "        colours[k] = img[int(i+dx[0]),int(j+dy[0])]\n",
    "        rColours[k] = img[int(i+dx[1]),int(j+hwth+dy[1])]\n",
    "\n",
    "#         colours[k] = img[int(i+dy[0]),int(j+dx[0])]\n",
    "#         rColours[k] = img[int(i+dy[1]),int(j+hwth+dx[1])]        \n",
    "        k += 1\n",
    "        \n",
    "colours = np.concatenate((colours,rColours))\n",
    "print(\"Done!\")"
   ]
  },
  {
   "cell_type": "code",
   "execution_count": 5,
   "metadata": {},
   "outputs": [
    {
     "name": "stdout",
     "output_type": "stream",
     "text": [
      "Done!\n"
     ]
    }
   ],
   "source": [
    "# derp = np.column_stack((x,y,z))\n",
    "cPoints = pd.DataFrame(points,columns=['x', 'y', 'z'])\n",
    "cPoints[['red', 'blue', 'green']] = pd.DataFrame(colours.astype(np.uint8), index=cPoints.index)\n",
    "cloud = PyntCloud(cPoints)\n",
    "print(\"Done!\")"
   ]
  },
  {
   "cell_type": "code",
   "execution_count": 8,
   "metadata": {},
   "outputs": [],
   "source": [
    "# cloud.plot(point_size=0.01)"
   ]
  },
  {
   "cell_type": "code",
   "execution_count": null,
   "metadata": {},
   "outputs": [],
   "source": []
  }
 ],
 "metadata": {
  "kernelspec": {
   "display_name": "Python 3",
   "language": "python",
   "name": "python3"
  },
  "language_info": {
   "codemirror_mode": {
    "name": "ipython",
    "version": 3
   },
   "file_extension": ".py",
   "mimetype": "text/x-python",
   "name": "python",
   "nbconvert_exporter": "python",
   "pygments_lexer": "ipython3",
   "version": "3.4.3"
  }
 },
 "nbformat": 4,
 "nbformat_minor": 2
}
