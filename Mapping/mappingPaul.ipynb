{
 "cells": [
  {
   "cell_type": "code",
   "execution_count": 75,
   "metadata": {},
   "outputs": [],
   "source": [
    "import sys, time\n",
    "import numpy as np\n",
    "import cv2\n",
    "import glob\n",
    "from optparse import OptionParser\n",
    "from pyntcloud import PyntCloud\n",
    "import pandas as pd\n",
    "from IPython.display import IFrame\n",
    "\n",
    "img = cv2.imread(\"soSmol.jpg\")\n",
    "\n",
    "if img is None:\n",
    "    print(\"Image Not Found at: {}\".format(options.image))\n",
    "    exit()\n",
    "\n",
    "hgt = img.shape[0]\n",
    "wth = img.shape[1]\n",
    "\n",
    "numPx = int(906)\n",
    "\n",
    "center = int(wth/2)\n",
    "circlePx = int(numPx/2)"
   ]
  },
  {
   "cell_type": "code",
   "execution_count": 76,
   "metadata": {},
   "outputs": [
    {
     "name": "stdout",
     "output_type": "stream",
     "text": [
      "-1.0\n",
      "1.0\n",
      "ThetaSize: (960, 960)\n",
      "iteration: 4.805706977844238\n"
     ]
    }
   ],
   "source": [
    "start = time.time()\n",
    "# circlePx = int(wth/2)\n",
    "uPixel = np.linspace(-center, center, num=wth, dtype=float)\n",
    "vPixel = np.linspace(-center, center, num=hgt, dtype=float)\n",
    "\n",
    "\n",
    "xx = 2*uPixel/wth\n",
    "yy = 2*vPixel/hgt\n",
    "\n",
    "print(np.min(xx))\n",
    "print(np.max(yy))\n",
    "\n",
    "theta = np.zeros((wth,wth), dtype = np.float32)\n",
    "phi = np.zeros((wth,wth), dtype = np.float32)\n",
    "borders = np.zeros((wth,wth), dtype = np.float32)\n",
    "\n",
    "ii = 0\n",
    "for i, x in enumerate(xx):\n",
    "    for j, y in enumerate(yy):\n",
    "        l = x**2+y**2\n",
    "        if l < 1:\n",
    "            phi[i,j] = np.arctan2(y,x)\n",
    "            theta[i,j] = np.sqrt(l)*np.pi/2\n",
    "            borders[i,j] = 1\n",
    "            \n",
    "            \n",
    "print(\"ThetaSize: {}\".format(theta.shape))\n",
    "    \n",
    "print(\"iteration: {}\".format(time.time()-start))"
   ]
  },
  {
   "cell_type": "code",
   "execution_count": null,
   "metadata": {},
   "outputs": [],
   "source": []
  },
  {
   "cell_type": "code",
   "execution_count": 77,
   "metadata": {},
   "outputs": [
    {
     "name": "stdout",
     "output_type": "stream",
     "text": [
      "(960, 960)\n",
      "(960, 960)\n",
      "(960, 960)\n",
      "(921600, 3)\n"
     ]
    }
   ],
   "source": [
    "theta_s = np.sin(theta)\n",
    "theta_c = np.cos(theta)\n",
    "phi_s = np.sin(phi)\n",
    "phi_c = np.cos(phi)\n",
    "\n",
    "x = theta_s*phi_c\n",
    "y = theta_s*phi_s\n",
    "z = theta_c\n",
    "\n",
    "print(x.shape)\n",
    "print(y.shape)\n",
    "print(z.shape)\n",
    "count = np.count_nonzero(borders)\n",
    "points = np.empty((count,3))\n",
    "colours = np.zeros((count,3))\n",
    "\n",
    "points = np.empty((wth*wth,3))\n",
    "colours = np.zeros((wth*wth,3))\n",
    "\n",
    "k = 0\n",
    "# for i,t in enumerate(borders!=0):\n",
    "#     h = ([j for j, h in enumerate(t) if h])\n",
    "#     for j in h:\n",
    "#         points[k] = [x[i,j],y[i,j],z[i,j]]\n",
    "#         k += 1\n",
    "        \n",
    "for i in range(wth):\n",
    "    for j in range(wth):\n",
    "        if borders[i,j] !=0:\n",
    "            points[k] = [x[i,j],y[i,j],z[i,j]]\n",
    "            k += 1\n",
    "\n",
    "print(points.shape)"
   ]
  },
  {
   "cell_type": "code",
   "execution_count": 78,
   "metadata": {
    "scrolled": true
   },
   "outputs": [
    {
     "name": "stdout",
     "output_type": "stream",
     "text": [
      "(921600, 3)\n"
     ]
    }
   ],
   "source": [
    "k = 0\n",
    "for i,t in enumerate(borders!=0):\n",
    "    h = ([j for j, h in enumerate(t) if h])\n",
    "    for j in h:\n",
    "        colours[k] = img[i,j]\n",
    "        k += 1\n",
    "\n",
    "# for i in range(wth):\n",
    "#     for j in range(wth):\n",
    "#         colours[k] = img[j,i]\n",
    "#         k += 1     \n",
    "        \n",
    "# print(colours)\n",
    "print(colours.shape)"
   ]
  },
  {
   "cell_type": "code",
   "execution_count": 79,
   "metadata": {},
   "outputs": [
    {
     "name": "stdout",
     "output_type": "stream",
     "text": [
      "Done\n"
     ]
    }
   ],
   "source": [
    "# derp = np.column_stack((x,y,z))\n",
    "cPoints = pd.DataFrame(points,columns=['x', 'y', 'z'])\n",
    "cPoints[['red', 'blue', 'green']] = pd.DataFrame(colours.astype(np.uint8), index=cPoints.index)\n",
    "cloud = PyntCloud(cPoints)\n",
    "print(\"Done\")"
   ]
  },
  {
   "cell_type": "code",
   "execution_count": 81,
   "metadata": {},
   "outputs": [],
   "source": [
    "# cloud.plot(point_size=0.01)"
   ]
  },
  {
   "cell_type": "code",
   "execution_count": null,
   "metadata": {},
   "outputs": [],
   "source": []
  }
 ],
 "metadata": {
  "kernelspec": {
   "display_name": "Python 3",
   "language": "python",
   "name": "python3"
  },
  "language_info": {
   "codemirror_mode": {
    "name": "ipython",
    "version": 3
   },
   "file_extension": ".py",
   "mimetype": "text/x-python",
   "name": "python",
   "nbconvert_exporter": "python",
   "pygments_lexer": "ipython3",
   "version": "3.4.3"
  }
 },
 "nbformat": 4,
 "nbformat_minor": 2
}
